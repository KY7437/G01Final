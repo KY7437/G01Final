{
  "nbformat": 4,
  "nbformat_minor": 0,
  "metadata": {
    "colab": {
      "provenance": [],
      "authorship_tag": "ABX9TyN1Ti2+Lt08nK/SJ5OdDLPW",
      "include_colab_link": true
    },
    "kernelspec": {
      "name": "python3",
      "display_name": "Python 3"
    },
    "language_info": {
      "name": "python"
    },
    "widgets": {
      "application/vnd.jupyter.widget-state+json": {
        "5ac566b82fd04dc0a9babbade145cf2e": {
          "model_module": "@jupyter-widgets/controls",
          "model_name": "TextModel",
          "model_module_version": "1.5.0",
          "state": {
            "_dom_classes": [],
            "_model_module": "@jupyter-widgets/controls",
            "_model_module_version": "1.5.0",
            "_model_name": "TextModel",
            "_view_count": null,
            "_view_module": "@jupyter-widgets/controls",
            "_view_module_version": "1.5.0",
            "_view_name": "TextView",
            "continuous_update": true,
            "description": "Your Answer:",
            "description_tooltip": null,
            "disabled": false,
            "layout": "IPY_MODEL_acff2ba834144d1ab5f2557c0d817890",
            "placeholder": "Type the correct sentence here",
            "style": "IPY_MODEL_bbdfbb0c9ba44fdb9021eb1c45b1704c",
            "value": ""
          }
        },
        "acff2ba834144d1ab5f2557c0d817890": {
          "model_module": "@jupyter-widgets/base",
          "model_name": "LayoutModel",
          "model_module_version": "1.2.0",
          "state": {
            "_model_module": "@jupyter-widgets/base",
            "_model_module_version": "1.2.0",
            "_model_name": "LayoutModel",
            "_view_count": null,
            "_view_module": "@jupyter-widgets/base",
            "_view_module_version": "1.2.0",
            "_view_name": "LayoutView",
            "align_content": null,
            "align_items": null,
            "align_self": null,
            "border": null,
            "bottom": null,
            "display": null,
            "flex": null,
            "flex_flow": null,
            "grid_area": null,
            "grid_auto_columns": null,
            "grid_auto_flow": null,
            "grid_auto_rows": null,
            "grid_column": null,
            "grid_gap": null,
            "grid_row": null,
            "grid_template_areas": null,
            "grid_template_columns": null,
            "grid_template_rows": null,
            "height": null,
            "justify_content": null,
            "justify_items": null,
            "left": null,
            "margin": null,
            "max_height": null,
            "max_width": null,
            "min_height": null,
            "min_width": null,
            "object_fit": null,
            "object_position": null,
            "order": null,
            "overflow": null,
            "overflow_x": null,
            "overflow_y": null,
            "padding": null,
            "right": null,
            "top": null,
            "visibility": null,
            "width": "90%"
          }
        },
        "bbdfbb0c9ba44fdb9021eb1c45b1704c": {
          "model_module": "@jupyter-widgets/controls",
          "model_name": "DescriptionStyleModel",
          "model_module_version": "1.5.0",
          "state": {
            "_model_module": "@jupyter-widgets/controls",
            "_model_module_version": "1.5.0",
            "_model_name": "DescriptionStyleModel",
            "_view_count": null,
            "_view_module": "@jupyter-widgets/base",
            "_view_module_version": "1.2.0",
            "_view_name": "StyleView",
            "description_width": ""
          }
        },
        "44208bfa79bb4059a74577bdc62c5f5a": {
          "model_module": "@jupyter-widgets/controls",
          "model_name": "ButtonModel",
          "model_module_version": "1.5.0",
          "state": {
            "_dom_classes": [],
            "_model_module": "@jupyter-widgets/controls",
            "_model_module_version": "1.5.0",
            "_model_name": "ButtonModel",
            "_view_count": null,
            "_view_module": "@jupyter-widgets/controls",
            "_view_module_version": "1.5.0",
            "_view_name": "ButtonView",
            "button_style": "",
            "description": "Submit",
            "disabled": false,
            "icon": "",
            "layout": "IPY_MODEL_cc8c029313204c679976e155daa347cc",
            "style": "IPY_MODEL_450f2bc6e8484ba7bbeeaa592e50b799",
            "tooltip": ""
          }
        },
        "cc8c029313204c679976e155daa347cc": {
          "model_module": "@jupyter-widgets/base",
          "model_name": "LayoutModel",
          "model_module_version": "1.2.0",
          "state": {
            "_model_module": "@jupyter-widgets/base",
            "_model_module_version": "1.2.0",
            "_model_name": "LayoutModel",
            "_view_count": null,
            "_view_module": "@jupyter-widgets/base",
            "_view_module_version": "1.2.0",
            "_view_name": "LayoutView",
            "align_content": null,
            "align_items": null,
            "align_self": null,
            "border": null,
            "bottom": null,
            "display": null,
            "flex": null,
            "flex_flow": null,
            "grid_area": null,
            "grid_auto_columns": null,
            "grid_auto_flow": null,
            "grid_auto_rows": null,
            "grid_column": null,
            "grid_gap": null,
            "grid_row": null,
            "grid_template_areas": null,
            "grid_template_columns": null,
            "grid_template_rows": null,
            "height": null,
            "justify_content": null,
            "justify_items": null,
            "left": null,
            "margin": null,
            "max_height": null,
            "max_width": null,
            "min_height": null,
            "min_width": null,
            "object_fit": null,
            "object_position": null,
            "order": null,
            "overflow": null,
            "overflow_x": null,
            "overflow_y": null,
            "padding": null,
            "right": null,
            "top": null,
            "visibility": null,
            "width": null
          }
        },
        "450f2bc6e8484ba7bbeeaa592e50b799": {
          "model_module": "@jupyter-widgets/controls",
          "model_name": "ButtonStyleModel",
          "model_module_version": "1.5.0",
          "state": {
            "_model_module": "@jupyter-widgets/controls",
            "_model_module_version": "1.5.0",
            "_model_name": "ButtonStyleModel",
            "_view_count": null,
            "_view_module": "@jupyter-widgets/base",
            "_view_module_version": "1.2.0",
            "_view_name": "StyleView",
            "button_color": null,
            "font_weight": ""
          }
        },
        "121e2955c0d94713800b6bf8c306cdcc": {
          "model_module": "@jupyter-widgets/output",
          "model_name": "OutputModel",
          "model_module_version": "1.0.0",
          "state": {
            "_dom_classes": [],
            "_model_module": "@jupyter-widgets/output",
            "_model_module_version": "1.0.0",
            "_model_name": "OutputModel",
            "_view_count": null,
            "_view_module": "@jupyter-widgets/output",
            "_view_module_version": "1.0.0",
            "_view_name": "OutputView",
            "layout": "IPY_MODEL_84fcd3222a054579b312fddfe478d007",
            "msg_id": "",
            "outputs": []
          }
        },
        "84fcd3222a054579b312fddfe478d007": {
          "model_module": "@jupyter-widgets/base",
          "model_name": "LayoutModel",
          "model_module_version": "1.2.0",
          "state": {
            "_model_module": "@jupyter-widgets/base",
            "_model_module_version": "1.2.0",
            "_model_name": "LayoutModel",
            "_view_count": null,
            "_view_module": "@jupyter-widgets/base",
            "_view_module_version": "1.2.0",
            "_view_name": "LayoutView",
            "align_content": null,
            "align_items": null,
            "align_self": null,
            "border": null,
            "bottom": null,
            "display": null,
            "flex": null,
            "flex_flow": null,
            "grid_area": null,
            "grid_auto_columns": null,
            "grid_auto_flow": null,
            "grid_auto_rows": null,
            "grid_column": null,
            "grid_gap": null,
            "grid_row": null,
            "grid_template_areas": null,
            "grid_template_columns": null,
            "grid_template_rows": null,
            "height": null,
            "justify_content": null,
            "justify_items": null,
            "left": null,
            "margin": null,
            "max_height": null,
            "max_width": null,
            "min_height": null,
            "min_width": null,
            "object_fit": null,
            "object_position": null,
            "order": null,
            "overflow": null,
            "overflow_x": null,
            "overflow_y": null,
            "padding": null,
            "right": null,
            "top": null,
            "visibility": null,
            "width": null
          }
        }
      }
    }
  },
  "cells": [
    {
      "cell_type": "markdown",
      "metadata": {
        "id": "view-in-github",
        "colab_type": "text"
      },
      "source": [
        "<a href=\"https://colab.research.google.com/github/KY7437/G01Final/blob/main/RealASQuiz.ipynb\" target=\"_parent\"><img src=\"https://colab.research.google.com/assets/colab-badge.svg\" alt=\"Open In Colab\"/></a>"
      ]
    },
    {
      "cell_type": "code",
      "source": [
        "import random\n",
        "import ipywidgets as widgets\n",
        "from IPython.display import display, clear_output\n",
        "\n",
        "# Lists of examples\n",
        "example_sentences = [\n",
        "    \"The hospital that was built last year is next to my house.\",\n",
        "    \"I received a gift from a chef who was clearly intelligent.\",\n",
        "    \"The machine which used to lie can be abandoned.\",\n",
        "    \"The report was written by the team last week.\",\n",
        "    \"When will your package be delivered to our company?\",\n",
        "    \"There stood an old library that was rumored to be enchanted.\"\n",
        "]\n",
        "\n",
        "# Problem Making Function\n",
        "def show_quiz():\n",
        "    clear_output()\n",
        "\n",
        "    original = random.choice(example_sentences)\n",
        "    words = original.strip().split()\n",
        "    shuffled = words[:]\n",
        "    while True:\n",
        "        random.shuffle(shuffled)\n",
        "        if shuffled != words:\n",
        "            break\n",
        "\n",
        "    print(\"🍀 Sentence Arrangement Quiz\")\n",
        "    print(\"Arrange the words presented appropriately:\\n\")\n",
        "    print(\"Shuffled words (use the words separated by `/`):\")\n",
        "    print(\" / \".join(shuffled))\n",
        "\n",
        "    #User buttons\n",
        "    input_box = widgets.Text(\n",
        "        placeholder='Type the correct sentence here',\n",
        "        description='Your Answer:',\n",
        "        layout=widgets.Layout(width='90%')\n",
        "    )\n",
        "\n",
        "    submit_button = widgets.Button(description=\"Submit\")\n",
        "    retry_button = widgets.Button(description=\"Try Another\")\n",
        "    output = widgets.Output()\n",
        "\n",
        "    def check_answer(b):\n",
        "        output.clear_output()\n",
        "        with output:\n",
        "            if input_box.value.strip() == original:\n",
        "                print(\"✅ Correct!\")\n",
        "            else:\n",
        "                print(\"❌ Wrong.\")\n",
        "                print(f\"Correct answer: {original}\")\n",
        "            display(retry_button)\n",
        "\n",
        "    def reload_quiz(b):\n",
        "        show_quiz()\n",
        "\n",
        "    submit_button.on_click(check_answer)\n",
        "    retry_button.on_click(reload_quiz)\n",
        "\n",
        "    display(input_box, submit_button, output)\n",
        "\n",
        "# Start\n",
        "show_quiz()"
      ],
      "metadata": {
        "colab": {
          "base_uri": "https://localhost:8080/",
          "height": 172,
          "referenced_widgets": [
            "5ac566b82fd04dc0a9babbade145cf2e",
            "acff2ba834144d1ab5f2557c0d817890",
            "bbdfbb0c9ba44fdb9021eb1c45b1704c",
            "44208bfa79bb4059a74577bdc62c5f5a",
            "cc8c029313204c679976e155daa347cc",
            "450f2bc6e8484ba7bbeeaa592e50b799",
            "121e2955c0d94713800b6bf8c306cdcc",
            "84fcd3222a054579b312fddfe478d007"
          ]
        },
        "id": "MpnO-hey1r43",
        "outputId": "7fe05453-cc76-46c0-8644-725f34d5fdbc"
      },
      "execution_count": 5,
      "outputs": [
        {
          "output_type": "stream",
          "name": "stdout",
          "text": [
            "🍀 Sentence Arrangement Quiz\n",
            "Arrange the words presented appropriately:\n",
            "\n",
            "Shuffled words (use the words separated by `/`):\n",
            "The / last / the / team / report / by / written / week. / was\n"
          ]
        },
        {
          "output_type": "display_data",
          "data": {
            "text/plain": [
              "Text(value='', description='Your Answer:', layout=Layout(width='90%'), placeholder='Type the correct sentence …"
            ],
            "application/vnd.jupyter.widget-view+json": {
              "version_major": 2,
              "version_minor": 0,
              "model_id": "5ac566b82fd04dc0a9babbade145cf2e"
            }
          },
          "metadata": {}
        },
        {
          "output_type": "display_data",
          "data": {
            "text/plain": [
              "Button(description='Submit', style=ButtonStyle())"
            ],
            "application/vnd.jupyter.widget-view+json": {
              "version_major": 2,
              "version_minor": 0,
              "model_id": "44208bfa79bb4059a74577bdc62c5f5a"
            }
          },
          "metadata": {}
        },
        {
          "output_type": "display_data",
          "data": {
            "text/plain": [
              "Output()"
            ],
            "application/vnd.jupyter.widget-view+json": {
              "version_major": 2,
              "version_minor": 0,
              "model_id": "121e2955c0d94713800b6bf8c306cdcc"
            }
          },
          "metadata": {}
        }
      ]
    }
  ]
}