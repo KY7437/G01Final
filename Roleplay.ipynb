pip install streamlit gTTS
import streamlit as st
from gtts import gTTS
import tempfile
import os

# 문법 표현 예문 사전
EXPRESSION_DB = {
    "that": {
        "examples": [
            "A: Did you watch the movie that I recommended yesterday?",
            "B: Yes, I did! I loved the part that shows the main character’s childhood.",
            "A: Me too! The scene that made me cry was at the end.",
            "B: Same here. I think it’s a movie that everyone should watch."
        ]
    },
    "be p.p": {
        "examples": [
            "A: Did you hear? Our classroom was cleaned yesterday.",
            "B: Really? It looks so much better now.",
            "A: Yeah, and new computers were installed this morning.",
            "B: That’s great! I heard the old ones were broken last week.",
            "A: Right. The whole room was redesigned by the school’s tech team."
        ]
    }
}

# 제목
st.title("🎭 중학생 롤플레잉 대화문 앱")
st.markdown("문법 표현을 선택해서 대화문을 듣고, 원하면 내용을 확인해 보세요!")

# 표현 버튼 UI
expression = st.selectbox("🔤 문법 표현 선택:", list(EXPRESSION_DB.keys()))

# TTS 생성 및 재생
if st.button("▶️ 대화 듣기"):
    examples = EXPRESSION_DB[expression]["examples"]
    full_text = " ".join(examples)
    tts = gTTS(full_text)
    with tempfile.NamedTemporaryFile(delete=False, suffix=".mp3") as fp:
        tts.save(fp.name)
        st.audio(fp.name, format="audio/mp3")
        audio_path = fp.name

    st.session_state["show_text"] = False  # 초기에는 텍스트 숨김

# 대화문 보기 버튼
if "show_text" not in st.session_state:
    st.session_state["show_text"] = False

if st.button("👀 대화문 보기"):
    st.session_state["show_text"] = True

# 대화문 출력
if st.session_state["show_text"]:
    examples = EXPRESSION_DB[expression]["examples"]
    col1, col2 = st.columns(2)
    with col1:
        st.subheader("👤 A")
        for line in examples:
            if line.startswith("A:"):
                st.write(line[3:])
            else:
                st.write("")

    with col2:
        st.subheader("🧑 B")
        for line in examples:
            if line.startswith("B:"):
                st.write(line[3:])
            else:
                st.write("")
streamlit run app.py
