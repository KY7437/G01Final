{
  "nbformat": 4,
  "nbformat_minor": 0,
  "metadata": {
    "colab": {
      "provenance": [],
      "authorship_tag": "ABX9TyN1Ti2+Lt08nK/SJ5OdDLPW",
      "include_colab_link": true
    },
    "kernelspec": {
      "name": "python3",
      "display_name": "Python 3"
    },
    "language_info": {
      "name": "python"
    },
    "widgets": {
      "application/vnd.jupyter.widget-state+json": {
        "6ec429673a7b4191ac7a73669434f386": {
          "model_module": "@jupyter-widgets/controls",
          "model_name": "TextModel",
          "model_module_version": "1.5.0",
          "state": {
            "_dom_classes": [],
            "_model_module": "@jupyter-widgets/controls",
            "_model_module_version": "1.5.0",
            "_model_name": "TextModel",
            "_view_count": null,
            "_view_module": "@jupyter-widgets/controls",
            "_view_module_version": "1.5.0",
            "_view_name": "TextView",
            "continuous_update": true,
            "description": "Your Answer:",
            "description_tooltip": null,
            "disabled": false,
            "layout": "IPY_MODEL_cb248cbb0ae640bf90f5bc931f2e7b17",
            "placeholder": "Type the correct sentence here",
            "style": "IPY_MODEL_0acaf51c78134289b74a4fb6636a22c2",
            "value": ""
          }
        },
        "cb248cbb0ae640bf90f5bc931f2e7b17": {
          "model_module": "@jupyter-widgets/base",
          "model_name": "LayoutModel",
          "model_module_version": "1.2.0",
          "state": {
            "_model_module": "@jupyter-widgets/base",
            "_model_module_version": "1.2.0",
            "_model_name": "LayoutModel",
            "_view_count": null,
            "_view_module": "@jupyter-widgets/base",
            "_view_module_version": "1.2.0",
            "_view_name": "LayoutView",
            "align_content": null,
            "align_items": null,
            "align_self": null,
            "border": null,
            "bottom": null,
            "display": null,
            "flex": null,
            "flex_flow": null,
            "grid_area": null,
            "grid_auto_columns": null,
            "grid_auto_flow": null,
            "grid_auto_rows": null,
            "grid_column": null,
            "grid_gap": null,
            "grid_row": null,
            "grid_template_areas": null,
            "grid_template_columns": null,
            "grid_template_rows": null,
            "height": null,
            "justify_content": null,
            "justify_items": null,
            "left": null,
            "margin": null,
            "max_height": null,
            "max_width": null,
            "min_height": null,
            "min_width": null,
            "object_fit": null,
            "object_position": null,
            "order": null,
            "overflow": null,
            "overflow_x": null,
            "overflow_y": null,
            "padding": null,
            "right": null,
            "top": null,
            "visibility": null,
            "width": "90%"
          }
        },
        "0acaf51c78134289b74a4fb6636a22c2": {
          "model_module": "@jupyter-widgets/controls",
          "model_name": "DescriptionStyleModel",
          "model_module_version": "1.5.0",
          "state": {
            "_model_module": "@jupyter-widgets/controls",
            "_model_module_version": "1.5.0",
            "_model_name": "DescriptionStyleModel",
            "_view_count": null,
            "_view_module": "@jupyter-widgets/base",
            "_view_module_version": "1.2.0",
            "_view_name": "StyleView",
            "description_width": ""
          }
        },
        "e1c00fe006b14a85954277ed45380acc": {
          "model_module": "@jupyter-widgets/controls",
          "model_name": "ButtonModel",
          "model_module_version": "1.5.0",
          "state": {
            "_dom_classes": [],
            "_model_module": "@jupyter-widgets/controls",
            "_model_module_version": "1.5.0",
            "_model_name": "ButtonModel",
            "_view_count": null,
            "_view_module": "@jupyter-widgets/controls",
            "_view_module_version": "1.5.0",
            "_view_name": "ButtonView",
            "button_style": "",
            "description": "Submit",
            "disabled": false,
            "icon": "",
            "layout": "IPY_MODEL_b6df4e5ee2424aa59faf1947a3fc42c1",
            "style": "IPY_MODEL_6e007ed65cfb4af8b32617bec99cccb8",
            "tooltip": ""
          }
        },
        "b6df4e5ee2424aa59faf1947a3fc42c1": {
          "model_module": "@jupyter-widgets/base",
          "model_name": "LayoutModel",
          "model_module_version": "1.2.0",
          "state": {
            "_model_module": "@jupyter-widgets/base",
            "_model_module_version": "1.2.0",
            "_model_name": "LayoutModel",
            "_view_count": null,
            "_view_module": "@jupyter-widgets/base",
            "_view_module_version": "1.2.0",
            "_view_name": "LayoutView",
            "align_content": null,
            "align_items": null,
            "align_self": null,
            "border": null,
            "bottom": null,
            "display": null,
            "flex": null,
            "flex_flow": null,
            "grid_area": null,
            "grid_auto_columns": null,
            "grid_auto_flow": null,
            "grid_auto_rows": null,
            "grid_column": null,
            "grid_gap": null,
            "grid_row": null,
            "grid_template_areas": null,
            "grid_template_columns": null,
            "grid_template_rows": null,
            "height": null,
            "justify_content": null,
            "justify_items": null,
            "left": null,
            "margin": null,
            "max_height": null,
            "max_width": null,
            "min_height": null,
            "min_width": null,
            "object_fit": null,
            "object_position": null,
            "order": null,
            "overflow": null,
            "overflow_x": null,
            "overflow_y": null,
            "padding": null,
            "right": null,
            "top": null,
            "visibility": null,
            "width": null
          }
        },
        "6e007ed65cfb4af8b32617bec99cccb8": {
          "model_module": "@jupyter-widgets/controls",
          "model_name": "ButtonStyleModel",
          "model_module_version": "1.5.0",
          "state": {
            "_model_module": "@jupyter-widgets/controls",
            "_model_module_version": "1.5.0",
            "_model_name": "ButtonStyleModel",
            "_view_count": null,
            "_view_module": "@jupyter-widgets/base",
            "_view_module_version": "1.2.0",
            "_view_name": "StyleView",
            "button_color": null,
            "font_weight": ""
          }
        },
        "5297c5aecbbf4b9981e4dc4d0484bcdd": {
          "model_module": "@jupyter-widgets/output",
          "model_name": "OutputModel",
          "model_module_version": "1.0.0",
          "state": {
            "_dom_classes": [],
            "_model_module": "@jupyter-widgets/output",
            "_model_module_version": "1.0.0",
            "_model_name": "OutputModel",
            "_view_count": null,
            "_view_module": "@jupyter-widgets/output",
            "_view_module_version": "1.0.0",
            "_view_name": "OutputView",
            "layout": "IPY_MODEL_7c58507006ba406894bda2ff662cbf64",
            "msg_id": "",
            "outputs": []
          }
        },
        "7c58507006ba406894bda2ff662cbf64": {
          "model_module": "@jupyter-widgets/base",
          "model_name": "LayoutModel",
          "model_module_version": "1.2.0",
          "state": {
            "_model_module": "@jupyter-widgets/base",
            "_model_module_version": "1.2.0",
            "_model_name": "LayoutModel",
            "_view_count": null,
            "_view_module": "@jupyter-widgets/base",
            "_view_module_version": "1.2.0",
            "_view_name": "LayoutView",
            "align_content": null,
            "align_items": null,
            "align_self": null,
            "border": null,
            "bottom": null,
            "display": null,
            "flex": null,
            "flex_flow": null,
            "grid_area": null,
            "grid_auto_columns": null,
            "grid_auto_flow": null,
            "grid_auto_rows": null,
            "grid_column": null,
            "grid_gap": null,
            "grid_row": null,
            "grid_template_areas": null,
            "grid_template_columns": null,
            "grid_template_rows": null,
            "height": null,
            "justify_content": null,
            "justify_items": null,
            "left": null,
            "margin": null,
            "max_height": null,
            "max_width": null,
            "min_height": null,
            "min_width": null,
            "object_fit": null,
            "object_position": null,
            "order": null,
            "overflow": null,
            "overflow_x": null,
            "overflow_y": null,
            "padding": null,
            "right": null,
            "top": null,
            "visibility": null,
            "width": null
          }
        }
      }
    }
  },
  "cells": [
    {
      "cell_type": "markdown",
      "metadata": {
        "id": "view-in-github",
        "colab_type": "text"
      },
      "source": [
        "<a href=\"https://colab.research.google.com/github/KY7437/G01Final/blob/main/RealASQuiz_py.ipynb\" target=\"_parent\"><img src=\"https://colab.research.google.com/assets/colab-badge.svg\" alt=\"Open In Colab\"/></a>"
      ]
    },
    {
      "cell_type": "code",
      "source": [
        "import random\n",
        "import ipywidgets as widgets\n",
        "from IPython.display import display, clear_output\n",
        "\n",
        "# Lists of examples\n",
        "example_sentences = [\n",
        "    \"The hospital that was built last year is next to my house.\",\n",
        "    \"I received a gift from a chef who was clearly intelligent.\",\n",
        "    \"The machine which used to lie can be abandoned.\",\n",
        "    \"The report was written by the team last week.\",\n",
        "    \"When will your package be delivered to our company?\",\n",
        "    \"There stood an old library that was rumored to be enchanted.\"\n",
        "]\n",
        "\n",
        "# Problem Making Function\n",
        "def show_quiz():\n",
        "    clear_output()\n",
        "\n",
        "    original = random.choice(example_sentences)\n",
        "    words = original.strip().split()\n",
        "    shuffled = words[:]\n",
        "    while True:\n",
        "        random.shuffle(shuffled)\n",
        "        if shuffled != words:\n",
        "            break\n",
        "\n",
        "    print(\"🍀 Sentence Arrangement Quiz\")\n",
        "    print(\"Arrange the words presented appropriately:\\n\")\n",
        "    print(\"Shuffled words (use the words separated by `/`):\")\n",
        "    print(\" / \".join(shuffled))\n",
        "\n",
        "    #User buttons\n",
        "    input_box = widgets.Text(\n",
        "        placeholder='Type the correct sentence here',\n",
        "        description='Your Answer:',\n",
        "        layout=widgets.Layout(width='90%')\n",
        "    )\n",
        "\n",
        "    submit_button = widgets.Button(description=\"Submit\")\n",
        "    retry_button = widgets.Button(description=\"Try Another\")\n",
        "    output = widgets.Output()\n",
        "\n",
        "    def check_answer(b):\n",
        "        output.clear_output()\n",
        "        with output:\n",
        "            if input_box.value.strip() == original:\n",
        "                print(\"✅ Correct!\")\n",
        "            else:\n",
        "                print(\"❌ Wrong.\")\n",
        "                print(f\"Correct answer: {original}\")\n",
        "            display(retry_button)\n",
        "\n",
        "    def reload_quiz(b):\n",
        "        show_quiz()\n",
        "\n",
        "    submit_button.on_click(check_answer)\n",
        "    retry_button.on_click(reload_quiz)\n",
        "\n",
        "    display(input_box, submit_button, output)\n",
        "\n",
        "# Start\n",
        "show_quiz()"
      ],
      "metadata": {
        "colab": {
          "base_uri": "https://localhost:8080/",
          "height": 172,
          "referenced_widgets": [
            "6ec429673a7b4191ac7a73669434f386",
            "cb248cbb0ae640bf90f5bc931f2e7b17",
            "0acaf51c78134289b74a4fb6636a22c2",
            "e1c00fe006b14a85954277ed45380acc",
            "b6df4e5ee2424aa59faf1947a3fc42c1",
            "6e007ed65cfb4af8b32617bec99cccb8",
            "5297c5aecbbf4b9981e4dc4d0484bcdd",
            "7c58507006ba406894bda2ff662cbf64"
          ]
        },
        "id": "MpnO-hey1r43",
        "outputId": "2fc1870c-b885-4abf-c5e6-f30ff6066ef4"
      },
      "execution_count": null,
      "outputs": [
        {
          "output_type": "stream",
          "name": "stdout",
          "text": [
            "🍀 Sentence Arrangement Quiz\n",
            "Arrange the words presented appropriately:\n",
            "\n",
            "Shuffled words (use the words separated by `/`):\n",
            "will / to / your / our / package / delivered / company? / When / be\n"
          ]
        },
        {
          "output_type": "display_data",
          "data": {
            "text/plain": [
              "Text(value='', description='Your Answer:', layout=Layout(width='90%'), placeholder='Type the correct sentence …"
            ],
            "application/vnd.jupyter.widget-view+json": {
              "version_major": 2,
              "version_minor": 0,
              "model_id": "6ec429673a7b4191ac7a73669434f386"
            }
          },
          "metadata": {}
        },
        {
          "output_type": "display_data",
          "data": {
            "text/plain": [
              "Button(description='Submit', style=ButtonStyle())"
            ],
            "application/vnd.jupyter.widget-view+json": {
              "version_major": 2,
              "version_minor": 0,
              "model_id": "e1c00fe006b14a85954277ed45380acc"
            }
          },
          "metadata": {}
        },
        {
          "output_type": "display_data",
          "data": {
            "text/plain": [
              "Output()"
            ],
            "application/vnd.jupyter.widget-view+json": {
              "version_major": 2,
              "version_minor": 0,
              "model_id": "5297c5aecbbf4b9981e4dc4d0484bcdd"
            }
          },
          "metadata": {}
        }
      ]
    }
  ]
}