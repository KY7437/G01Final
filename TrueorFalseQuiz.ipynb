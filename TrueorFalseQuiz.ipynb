{
  "nbformat": 4,
  "nbformat_minor": 0,
  "metadata": {
    "colab": {
      "provenance": [],
      "authorship_tag": "ABX9TyMZ7jaU4gK4+L9IGtM58k3Y",
      "include_colab_link": true
    },
    "kernelspec": {
      "name": "python3",
      "display_name": "Python 3"
    },
    "language_info": {
      "name": "python"
    }
  },
  "cells": [
    {
      "cell_type": "markdown",
      "metadata": {
        "id": "view-in-github",
        "colab_type": "text"
      },
      "source": [
        "<a href=\"https://colab.research.google.com/github/KY7437/G01Final/blob/main/TrueorFalseQuiz.ipynb\" target=\"_parent\"><img src=\"https://colab.research.google.com/assets/colab-badge.svg\" alt=\"Open In Colab\"/></a>"
      ]
    },
    {
      "cell_type": "code",
      "source": [
        "# 문제 및 정답 리스트 정의\n",
        "statements = [\n",
        "    {\"statement\": \"Sarah is a 15-year-old girl who sneaks into the library during the day.\", \"answer\": False},\n",
        "    {\"statement\": \"The library in Willowby is said to be enchanted.\", \"answer\": True},\n",
        "    {\"statement\": \"At midnight, the characters in the books come to life and talk.\", \"answer\": True},\n",
        "    {\"statement\": \"Sarah met Harry Potter in the Midnight Library.\", \"answer\": False},\n",
        "    {\"statement\": \"The characters return to their pages as dawn approaches.\", \"answer\": True},\n",
        "]\n",
        "\n",
        "# Streamlit 파일 생성\n",
        "with open(\"midnight_library_quiz.py\", \"w\", encoding=\"utf-8\") as f:\n",
        "    f.write(\"\"\"\n",
        "import streamlit as st\n",
        "\n",
        "st.title(\"The Midnight Library - True or False Quiz\")\n",
        "st.write(\"Based on the story of 'The Midnight Library', decide whether each statement is True or False.\")\n",
        "\n",
        "statements = [\n",
        "    {\"statement\": \"Sarah is a 15-year-old girl who sneaks into the library during the day.\", \"answer\": False},\n",
        "    {\"statement\": \"The library in Willowby is said to be enchanted.\", \"answer\": True},\n",
        "    {\"statement\": \"At midnight, the characters in the books come to life and talk.\", \"answer\": True},\n",
        "    {\"statement\": \"Sarah met Harry Potter in the Midnight Library.\", \"answer\": False},\n",
        "    {\"statement\": \"The characters return to their pages as dawn approaches.\", \"answer\": True},\n",
        "]\n",
        "\n",
        "score = 0\n",
        "\n",
        "for idx, item in enumerate(statements):\n",
        "    user_answer = st.radio(f\"Q{idx + 1}: {item['statement']}\", (\"True\", \"False\"), key=idx)\n",
        "    if user_answer == str(item['answer']):\n",
        "        st.success(\"Correct!\")\n",
        "        score += 1\n",
        "    else:\n",
        "        st.error(\"Incorrect.\")\n",
        "\n",
        "st.write(f\"Your total score: {score} out of {len(statements)}\")\n",
        "    \"\"\")\n",
        "\n",
        "print(\"✅ Streamlit 파일 'midnight_library_quiz.py'이 생성되었습니다.\")"
      ],
      "metadata": {
        "id": "T58GYUNVidg3",
        "outputId": "a38dc2da-6896-443b-d2d3-127fd15cd79c",
        "colab": {
          "base_uri": "https://localhost:8080/"
        }
      },
      "execution_count": 16,
      "outputs": [
        {
          "output_type": "stream",
          "name": "stdout",
          "text": [
            "✅ Streamlit 파일 'midnight_library_quiz.py'이 생성되었습니다.\n"
          ]
        }
      ]
    }
  ]
}