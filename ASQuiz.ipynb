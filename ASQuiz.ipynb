{
  "nbformat": 4,
  "nbformat_minor": 0,
  "metadata": {
    "colab": {
      "provenance": [],
      "authorship_tag": "ABX9TyM6ZmxrJgjp4lK7qYYgtHQY",
      "include_colab_link": true
    },
    "kernelspec": {
      "name": "python3",
      "display_name": "Python 3"
    },
    "language_info": {
      "name": "python"
    },
    "widgets": {
      "application/vnd.jupyter.widget-state+json": {
        "9676a8d6124b425cada798bef27d92a5": {
          "model_module": "@jupyter-widgets/controls",
          "model_name": "TextModel",
          "model_module_version": "1.5.0",
          "state": {
            "_dom_classes": [],
            "_model_module": "@jupyter-widgets/controls",
            "_model_module_version": "1.5.0",
            "_model_name": "TextModel",
            "_view_count": null,
            "_view_module": "@jupyter-widgets/controls",
            "_view_module_version": "1.5.0",
            "_view_name": "TextView",
            "continuous_update": true,
            "description": "Your Answer:",
            "description_tooltip": null,
            "disabled": false,
            "layout": "IPY_MODEL_3633f845a3954fa4a8f11fa2285ae986",
            "placeholder": "Type the correct sentence here",
            "style": "IPY_MODEL_282a2df4f0c84601a8020caf8eac786b",
            "value": ""
          }
        },
        "3633f845a3954fa4a8f11fa2285ae986": {
          "model_module": "@jupyter-widgets/base",
          "model_name": "LayoutModel",
          "model_module_version": "1.2.0",
          "state": {
            "_model_module": "@jupyter-widgets/base",
            "_model_module_version": "1.2.0",
            "_model_name": "LayoutModel",
            "_view_count": null,
            "_view_module": "@jupyter-widgets/base",
            "_view_module_version": "1.2.0",
            "_view_name": "LayoutView",
            "align_content": null,
            "align_items": null,
            "align_self": null,
            "border": null,
            "bottom": null,
            "display": null,
            "flex": null,
            "flex_flow": null,
            "grid_area": null,
            "grid_auto_columns": null,
            "grid_auto_flow": null,
            "grid_auto_rows": null,
            "grid_column": null,
            "grid_gap": null,
            "grid_row": null,
            "grid_template_areas": null,
            "grid_template_columns": null,
            "grid_template_rows": null,
            "height": null,
            "justify_content": null,
            "justify_items": null,
            "left": null,
            "margin": null,
            "max_height": null,
            "max_width": null,
            "min_height": null,
            "min_width": null,
            "object_fit": null,
            "object_position": null,
            "order": null,
            "overflow": null,
            "overflow_x": null,
            "overflow_y": null,
            "padding": null,
            "right": null,
            "top": null,
            "visibility": null,
            "width": "90%"
          }
        },
        "282a2df4f0c84601a8020caf8eac786b": {
          "model_module": "@jupyter-widgets/controls",
          "model_name": "DescriptionStyleModel",
          "model_module_version": "1.5.0",
          "state": {
            "_model_module": "@jupyter-widgets/controls",
            "_model_module_version": "1.5.0",
            "_model_name": "DescriptionStyleModel",
            "_view_count": null,
            "_view_module": "@jupyter-widgets/base",
            "_view_module_version": "1.2.0",
            "_view_name": "StyleView",
            "description_width": ""
          }
        },
        "ccb7d4e191e041cdb50fb05a3b7e9381": {
          "model_module": "@jupyter-widgets/controls",
          "model_name": "ButtonModel",
          "model_module_version": "1.5.0",
          "state": {
            "_dom_classes": [],
            "_model_module": "@jupyter-widgets/controls",
            "_model_module_version": "1.5.0",
            "_model_name": "ButtonModel",
            "_view_count": null,
            "_view_module": "@jupyter-widgets/controls",
            "_view_module_version": "1.5.0",
            "_view_name": "ButtonView",
            "button_style": "",
            "description": "Submit",
            "disabled": false,
            "icon": "",
            "layout": "IPY_MODEL_42d99b42f2764c72a2c09e383b8037d7",
            "style": "IPY_MODEL_0fbc7c17e32e4288820c62105f73186f",
            "tooltip": ""
          }
        },
        "42d99b42f2764c72a2c09e383b8037d7": {
          "model_module": "@jupyter-widgets/base",
          "model_name": "LayoutModel",
          "model_module_version": "1.2.0",
          "state": {
            "_model_module": "@jupyter-widgets/base",
            "_model_module_version": "1.2.0",
            "_model_name": "LayoutModel",
            "_view_count": null,
            "_view_module": "@jupyter-widgets/base",
            "_view_module_version": "1.2.0",
            "_view_name": "LayoutView",
            "align_content": null,
            "align_items": null,
            "align_self": null,
            "border": null,
            "bottom": null,
            "display": null,
            "flex": null,
            "flex_flow": null,
            "grid_area": null,
            "grid_auto_columns": null,
            "grid_auto_flow": null,
            "grid_auto_rows": null,
            "grid_column": null,
            "grid_gap": null,
            "grid_row": null,
            "grid_template_areas": null,
            "grid_template_columns": null,
            "grid_template_rows": null,
            "height": null,
            "justify_content": null,
            "justify_items": null,
            "left": null,
            "margin": null,
            "max_height": null,
            "max_width": null,
            "min_height": null,
            "min_width": null,
            "object_fit": null,
            "object_position": null,
            "order": null,
            "overflow": null,
            "overflow_x": null,
            "overflow_y": null,
            "padding": null,
            "right": null,
            "top": null,
            "visibility": null,
            "width": null
          }
        },
        "0fbc7c17e32e4288820c62105f73186f": {
          "model_module": "@jupyter-widgets/controls",
          "model_name": "ButtonStyleModel",
          "model_module_version": "1.5.0",
          "state": {
            "_model_module": "@jupyter-widgets/controls",
            "_model_module_version": "1.5.0",
            "_model_name": "ButtonStyleModel",
            "_view_count": null,
            "_view_module": "@jupyter-widgets/base",
            "_view_module_version": "1.2.0",
            "_view_name": "StyleView",
            "button_color": null,
            "font_weight": ""
          }
        },
        "e5fcc2e26e9f4032b8c8214944da45a2": {
          "model_module": "@jupyter-widgets/output",
          "model_name": "OutputModel",
          "model_module_version": "1.0.0",
          "state": {
            "_dom_classes": [],
            "_model_module": "@jupyter-widgets/output",
            "_model_module_version": "1.0.0",
            "_model_name": "OutputModel",
            "_view_count": null,
            "_view_module": "@jupyter-widgets/output",
            "_view_module_version": "1.0.0",
            "_view_name": "OutputView",
            "layout": "IPY_MODEL_e137e058580642ed8dda9a5de4931fc3",
            "msg_id": "",
            "outputs": []
          }
        },
        "e137e058580642ed8dda9a5de4931fc3": {
          "model_module": "@jupyter-widgets/base",
          "model_name": "LayoutModel",
          "model_module_version": "1.2.0",
          "state": {
            "_model_module": "@jupyter-widgets/base",
            "_model_module_version": "1.2.0",
            "_model_name": "LayoutModel",
            "_view_count": null,
            "_view_module": "@jupyter-widgets/base",
            "_view_module_version": "1.2.0",
            "_view_name": "LayoutView",
            "align_content": null,
            "align_items": null,
            "align_self": null,
            "border": null,
            "bottom": null,
            "display": null,
            "flex": null,
            "flex_flow": null,
            "grid_area": null,
            "grid_auto_columns": null,
            "grid_auto_flow": null,
            "grid_auto_rows": null,
            "grid_column": null,
            "grid_gap": null,
            "grid_row": null,
            "grid_template_areas": null,
            "grid_template_columns": null,
            "grid_template_rows": null,
            "height": null,
            "justify_content": null,
            "justify_items": null,
            "left": null,
            "margin": null,
            "max_height": null,
            "max_width": null,
            "min_height": null,
            "min_width": null,
            "object_fit": null,
            "object_position": null,
            "order": null,
            "overflow": null,
            "overflow_x": null,
            "overflow_y": null,
            "padding": null,
            "right": null,
            "top": null,
            "visibility": null,
            "width": null
          }
        },
        "d38ce40fabdd4159829a6300785166fd": {
          "model_module": "@jupyter-widgets/controls",
          "model_name": "TextModel",
          "model_module_version": "1.5.0",
          "state": {
            "_dom_classes": [],
            "_model_module": "@jupyter-widgets/controls",
            "_model_module_version": "1.5.0",
            "_model_name": "TextModel",
            "_view_count": null,
            "_view_module": "@jupyter-widgets/controls",
            "_view_module_version": "1.5.0",
            "_view_name": "TextView",
            "continuous_update": true,
            "description": "Your Answer:",
            "description_tooltip": null,
            "disabled": false,
            "layout": "IPY_MODEL_5072dae1919c4cdb945aa835b1d5b877",
            "placeholder": "Type the correct sentence here",
            "style": "IPY_MODEL_75ca8c5f69534d7c900974d55019b758",
            "value": ""
          }
        },
        "5072dae1919c4cdb945aa835b1d5b877": {
          "model_module": "@jupyter-widgets/base",
          "model_name": "LayoutModel",
          "model_module_version": "1.2.0",
          "state": {
            "_model_module": "@jupyter-widgets/base",
            "_model_module_version": "1.2.0",
            "_model_name": "LayoutModel",
            "_view_count": null,
            "_view_module": "@jupyter-widgets/base",
            "_view_module_version": "1.2.0",
            "_view_name": "LayoutView",
            "align_content": null,
            "align_items": null,
            "align_self": null,
            "border": null,
            "bottom": null,
            "display": null,
            "flex": null,
            "flex_flow": null,
            "grid_area": null,
            "grid_auto_columns": null,
            "grid_auto_flow": null,
            "grid_auto_rows": null,
            "grid_column": null,
            "grid_gap": null,
            "grid_row": null,
            "grid_template_areas": null,
            "grid_template_columns": null,
            "grid_template_rows": null,
            "height": null,
            "justify_content": null,
            "justify_items": null,
            "left": null,
            "margin": null,
            "max_height": null,
            "max_width": null,
            "min_height": null,
            "min_width": null,
            "object_fit": null,
            "object_position": null,
            "order": null,
            "overflow": null,
            "overflow_x": null,
            "overflow_y": null,
            "padding": null,
            "right": null,
            "top": null,
            "visibility": null,
            "width": "90%"
          }
        },
        "75ca8c5f69534d7c900974d55019b758": {
          "model_module": "@jupyter-widgets/controls",
          "model_name": "DescriptionStyleModel",
          "model_module_version": "1.5.0",
          "state": {
            "_model_module": "@jupyter-widgets/controls",
            "_model_module_version": "1.5.0",
            "_model_name": "DescriptionStyleModel",
            "_view_count": null,
            "_view_module": "@jupyter-widgets/base",
            "_view_module_version": "1.2.0",
            "_view_name": "StyleView",
            "description_width": ""
          }
        },
        "a23731980d5549c0a123b2680bd94c02": {
          "model_module": "@jupyter-widgets/controls",
          "model_name": "ButtonModel",
          "model_module_version": "1.5.0",
          "state": {
            "_dom_classes": [],
            "_model_module": "@jupyter-widgets/controls",
            "_model_module_version": "1.5.0",
            "_model_name": "ButtonModel",
            "_view_count": null,
            "_view_module": "@jupyter-widgets/controls",
            "_view_module_version": "1.5.0",
            "_view_name": "ButtonView",
            "button_style": "",
            "description": "Submit",
            "disabled": false,
            "icon": "",
            "layout": "IPY_MODEL_5ae95557d3ee42099aacdcf8542900b9",
            "style": "IPY_MODEL_a6d3a75a72eb46e2a865b35fb7339051",
            "tooltip": ""
          }
        },
        "5ae95557d3ee42099aacdcf8542900b9": {
          "model_module": "@jupyter-widgets/base",
          "model_name": "LayoutModel",
          "model_module_version": "1.2.0",
          "state": {
            "_model_module": "@jupyter-widgets/base",
            "_model_module_version": "1.2.0",
            "_model_name": "LayoutModel",
            "_view_count": null,
            "_view_module": "@jupyter-widgets/base",
            "_view_module_version": "1.2.0",
            "_view_name": "LayoutView",
            "align_content": null,
            "align_items": null,
            "align_self": null,
            "border": null,
            "bottom": null,
            "display": null,
            "flex": null,
            "flex_flow": null,
            "grid_area": null,
            "grid_auto_columns": null,
            "grid_auto_flow": null,
            "grid_auto_rows": null,
            "grid_column": null,
            "grid_gap": null,
            "grid_row": null,
            "grid_template_areas": null,
            "grid_template_columns": null,
            "grid_template_rows": null,
            "height": null,
            "justify_content": null,
            "justify_items": null,
            "left": null,
            "margin": null,
            "max_height": null,
            "max_width": null,
            "min_height": null,
            "min_width": null,
            "object_fit": null,
            "object_position": null,
            "order": null,
            "overflow": null,
            "overflow_x": null,
            "overflow_y": null,
            "padding": null,
            "right": null,
            "top": null,
            "visibility": null,
            "width": null
          }
        },
        "a6d3a75a72eb46e2a865b35fb7339051": {
          "model_module": "@jupyter-widgets/controls",
          "model_name": "ButtonStyleModel",
          "model_module_version": "1.5.0",
          "state": {
            "_model_module": "@jupyter-widgets/controls",
            "_model_module_version": "1.5.0",
            "_model_name": "ButtonStyleModel",
            "_view_count": null,
            "_view_module": "@jupyter-widgets/base",
            "_view_module_version": "1.2.0",
            "_view_name": "StyleView",
            "button_color": null,
            "font_weight": ""
          }
        },
        "18be303c07ca4bbdbe5e1580964d3e55": {
          "model_module": "@jupyter-widgets/output",
          "model_name": "OutputModel",
          "model_module_version": "1.0.0",
          "state": {
            "_dom_classes": [],
            "_model_module": "@jupyter-widgets/output",
            "_model_module_version": "1.0.0",
            "_model_name": "OutputModel",
            "_view_count": null,
            "_view_module": "@jupyter-widgets/output",
            "_view_module_version": "1.0.0",
            "_view_name": "OutputView",
            "layout": "IPY_MODEL_417f57c098ca479f864be3bf83da93f5",
            "msg_id": "",
            "outputs": []
          }
        },
        "417f57c098ca479f864be3bf83da93f5": {
          "model_module": "@jupyter-widgets/base",
          "model_name": "LayoutModel",
          "model_module_version": "1.2.0",
          "state": {
            "_model_module": "@jupyter-widgets/base",
            "_model_module_version": "1.2.0",
            "_model_name": "LayoutModel",
            "_view_count": null,
            "_view_module": "@jupyter-widgets/base",
            "_view_module_version": "1.2.0",
            "_view_name": "LayoutView",
            "align_content": null,
            "align_items": null,
            "align_self": null,
            "border": null,
            "bottom": null,
            "display": null,
            "flex": null,
            "flex_flow": null,
            "grid_area": null,
            "grid_auto_columns": null,
            "grid_auto_flow": null,
            "grid_auto_rows": null,
            "grid_column": null,
            "grid_gap": null,
            "grid_row": null,
            "grid_template_areas": null,
            "grid_template_columns": null,
            "grid_template_rows": null,
            "height": null,
            "justify_content": null,
            "justify_items": null,
            "left": null,
            "margin": null,
            "max_height": null,
            "max_width": null,
            "min_height": null,
            "min_width": null,
            "object_fit": null,
            "object_position": null,
            "order": null,
            "overflow": null,
            "overflow_x": null,
            "overflow_y": null,
            "padding": null,
            "right": null,
            "top": null,
            "visibility": null,
            "width": null
          }
        }
      }
    }
  },
  "cells": [
    {
      "cell_type": "markdown",
      "metadata": {
        "id": "view-in-github",
        "colab_type": "text"
      },
      "source": [
        "<a href=\"https://colab.research.google.com/github/KY7437/G01Final/blob/main/ASQuiz.ipynb\" target=\"_parent\"><img src=\"https://colab.research.google.com/assets/colab-badge.svg\" alt=\"Open In Colab\"/></a>"
      ]
    },
    {
      "cell_type": "code",
      "source": [
        "import random\n",
        "\n",
        "def problem_title():\n",
        "    print(\"🍀 Sentence Arrangement Quiz\")\n",
        "    print(\"Arrange the words presented appropriately\\n\")\n",
        "\n",
        "    example_sentences = [\n",
        "        \"The hospital that was built last year is next to my house.\",\n",
        "        \"I received a gift from a chef who was clearly intelligent.\",\n",
        "        \"The machine which used to lie can be abandoned.\",\n",
        "        \"The report was written by the marketing team last week.\",\n",
        "        \"When will your package be delivered to our company?\",\n",
        "        \"There stood an old library that was rumored to be enchanted.\",\n",
        "    ]\n",
        "\n",
        "    original = random.choice(example_sentences)\n",
        "    words = original.strip().split()\n",
        "    shuffled = words[:]\n",
        "    while True:\n",
        "        random.shuffle(shuffled)\n",
        "        if shuffled != words:\n",
        "            break\n",
        "\n",
        "    print(\"Question:\")\n",
        "    print(\" \".join(shuffled))\n",
        "\n",
        "    answer = input(\"\\nType the correct sentence: \")\n",
        "\n",
        "    if answer.strip() == original:\n",
        "        print(\"Correct!\")\n",
        "    else:\n",
        "        print(f\"Wrong! The correct answer was:\\n{original}\")\n",
        "\n",
        "problem_title()"
      ],
      "metadata": {
        "colab": {
          "base_uri": "https://localhost:8080/"
        },
        "id": "DJJWeu0N0qmY",
        "outputId": "010dbebc-dfa5-4149-f82c-09319e905b85"
      },
      "execution_count": 5,
      "outputs": [
        {
          "output_type": "stream",
          "name": "stdout",
          "text": [
            "🍀 Sentence Arrangement Quiz\n",
            "Arrange the words presented appropriately\n",
            "\n",
            "Question:\n",
            "lie The be which used can to machine abandoned.\n",
            "\n",
            "Type the correct sentence: The machine which used to lie can be abandoned.\n",
            "Correct!\n"
          ]
        }
      ]
    },
    {
      "cell_type": "code",
      "source": [
        "import random\n",
        "import ipywidgets as widgets\n",
        "from IPython.display import display, clear_output\n",
        "\n",
        "# 예시 문장 리스트\n",
        "example_sentences = [\n",
        "    \"The hospital that was built last year is next to my house.\",\n",
        "    \"I received a gift from a chef who was clearly intelligent.\",\n",
        "    \"The machine which used to lie can be abandoned.\",\n",
        "    \"The report was written by the marketing team last week.\",\n",
        "    \"When will your package be delivered to our company?\",\n",
        "    \"There stood an old library that was rumored to be enchanted.\",\n",
        "]\n",
        "\n",
        "# 문제 출제 함수\n",
        "def show_quiz():\n",
        "    clear_output()\n",
        "\n",
        "    original = random.choice(example_sentences)\n",
        "    words = original.strip().split()\n",
        "    shuffled = words[:]\n",
        "    while True:\n",
        "        random.shuffle(shuffled)\n",
        "        if shuffled != words:\n",
        "            break\n",
        "\n",
        "    print(\"🍀 Sentence Arrangement Quiz\")\n",
        "    print(\"Arrange the words presented appropriately:\\n\")\n",
        "    print(\"Shuffled words:\")\n",
        "    print(\" \".join(shuffled))\n",
        "\n",
        "    # 사용자 입력창과 버튼\n",
        "    input_box = widgets.Text(\n",
        "        placeholder='Type the correct sentence here',\n",
        "        description='Your Answer:',\n",
        "        layout=widgets.Layout(width='90%')\n",
        "    )\n",
        "\n",
        "    submit_button = widgets.Button(description=\"Submit\")\n",
        "    retry_button = widgets.Button(description=\"Try Another\")\n",
        "    output = widgets.Output()\n",
        "\n",
        "    def check_answer(b):\n",
        "        output.clear_output()\n",
        "        with output:\n",
        "            if input_box.value.strip() == original:\n",
        "                print(\"✅ Correct!\")\n",
        "            else:\n",
        "                print(\"❌ Wrong.\")\n",
        "                print(f\"Correct answer: {original}\")\n",
        "            display(retry_button)\n",
        "\n",
        "    def reload_quiz(b):\n",
        "        show_quiz()\n",
        "\n",
        "    submit_button.on_click(check_answer)\n",
        "    retry_button.on_click(reload_quiz)\n",
        "\n",
        "    display(input_box, submit_button, output)\n",
        "\n",
        "# 시작\n",
        "show_quiz()"
      ],
      "metadata": {
        "colab": {
          "base_uri": "https://localhost:8080/",
          "height": 172,
          "referenced_widgets": [
            "9676a8d6124b425cada798bef27d92a5",
            "3633f845a3954fa4a8f11fa2285ae986",
            "282a2df4f0c84601a8020caf8eac786b",
            "ccb7d4e191e041cdb50fb05a3b7e9381",
            "42d99b42f2764c72a2c09e383b8037d7",
            "0fbc7c17e32e4288820c62105f73186f",
            "e5fcc2e26e9f4032b8c8214944da45a2",
            "e137e058580642ed8dda9a5de4931fc3"
          ]
        },
        "id": "4KwWb0EI1Tzl",
        "outputId": "f964abbd-7696-40b5-91db-e5d7228b9033"
      },
      "execution_count": 6,
      "outputs": [
        {
          "output_type": "stream",
          "name": "stdout",
          "text": [
            "🍀 Sentence Arrangement Quiz\n",
            "Arrange the words presented appropriately:\n",
            "\n",
            "Shuffled words:\n",
            "marketing week. team last report The the written was by\n"
          ]
        },
        {
          "output_type": "display_data",
          "data": {
            "text/plain": [
              "Text(value='', description='Your Answer:', layout=Layout(width='90%'), placeholder='Type the correct sentence …"
            ],
            "application/vnd.jupyter.widget-view+json": {
              "version_major": 2,
              "version_minor": 0,
              "model_id": "9676a8d6124b425cada798bef27d92a5"
            }
          },
          "metadata": {}
        },
        {
          "output_type": "display_data",
          "data": {
            "text/plain": [
              "Button(description='Submit', style=ButtonStyle())"
            ],
            "application/vnd.jupyter.widget-view+json": {
              "version_major": 2,
              "version_minor": 0,
              "model_id": "ccb7d4e191e041cdb50fb05a3b7e9381"
            }
          },
          "metadata": {}
        },
        {
          "output_type": "display_data",
          "data": {
            "text/plain": [
              "Output()"
            ],
            "application/vnd.jupyter.widget-view+json": {
              "version_major": 2,
              "version_minor": 0,
              "model_id": "e5fcc2e26e9f4032b8c8214944da45a2"
            }
          },
          "metadata": {}
        }
      ]
    },
    {
      "cell_type": "code",
      "source": [
        "import random\n",
        "import ipywidgets as widgets\n",
        "from IPython.display import display, clear_output\n",
        "\n",
        "# 예시 문장 리스트\n",
        "example_sentences = [\n",
        "    \"The hospital that was built last year is next to my house.\",\n",
        "    \"I received a gift from a chef who was clearly intelligent.\",\n",
        "    \"The machine which used to lie can be abandoned.\",\n",
        "    \"The report was written by the marketing team last week.\",\n",
        "    \"When will your package be delivered to our company?\",\n",
        "    \"There stood an old library that was rumored to be enchanted.\",\n",
        "]\n",
        "\n",
        "# 문제 출제 함수\n",
        "def show_quiz():\n",
        "    clear_output()\n",
        "\n",
        "    original = random.choice(example_sentences)\n",
        "    words = original.strip().split()\n",
        "    shuffled = words[:]\n",
        "    while True:\n",
        "        random.shuffle(shuffled)\n",
        "        if shuffled != words:\n",
        "            break\n",
        "\n",
        "    print(\"🍀 Sentence Arrangement Quiz\")\n",
        "    print(\"Arrange the words presented appropriately:\\n\")\n",
        "    print(\"Shuffled words (use the words separated by `/`):\")\n",
        "    print(\" / \".join(shuffled))  # 슬래시로 단어 구분 표시\n",
        "\n",
        "    # 사용자 입력창과 버튼\n",
        "    input_box = widgets.Text(\n",
        "        placeholder='Type the correct sentence here',\n",
        "        description='Your Answer:',\n",
        "        layout=widgets.Layout(width='90%')\n",
        "    )\n",
        "\n",
        "    submit_button = widgets.Button(description=\"Submit\")\n",
        "    retry_button = widgets.Button(description=\"Try Another\")\n",
        "    output = widgets.Output()\n",
        "\n",
        "    def check_answer(b):\n",
        "        output.clear_output()\n",
        "        with output:\n",
        "            if input_box.value.strip() == original:\n",
        "                print(\"✅ Correct!\")\n",
        "            else:\n",
        "                print(\"❌ Wrong.\")\n",
        "                print(f\"Correct answer: {original}\")\n",
        "            display(retry_button)\n",
        "\n",
        "    def reload_quiz(b):\n",
        "        show_quiz()\n",
        "\n",
        "    submit_button.on_click(check_answer)\n",
        "    retry_button.on_click(reload_quiz)\n",
        "\n",
        "    display(input_box, submit_button, output)\n",
        "\n",
        "# 시작\n",
        "show_quiz()"
      ],
      "metadata": {
        "colab": {
          "base_uri": "https://localhost:8080/",
          "height": 172,
          "referenced_widgets": [
            "d38ce40fabdd4159829a6300785166fd",
            "5072dae1919c4cdb945aa835b1d5b877",
            "75ca8c5f69534d7c900974d55019b758",
            "a23731980d5549c0a123b2680bd94c02",
            "5ae95557d3ee42099aacdcf8542900b9",
            "a6d3a75a72eb46e2a865b35fb7339051",
            "18be303c07ca4bbdbe5e1580964d3e55",
            "417f57c098ca479f864be3bf83da93f5"
          ]
        },
        "id": "MpnO-hey1r43",
        "outputId": "bad467a9-57d6-462c-f92f-5c55e961a4d8"
      },
      "execution_count": 7,
      "outputs": [
        {
          "output_type": "stream",
          "name": "stdout",
          "text": [
            "🍀 Sentence Arrangement Quiz\n",
            "Arrange the words presented appropriately:\n",
            "\n",
            "Shuffled words (use the words separated by `/`):\n",
            "week. / was / marketing / report / The / written / last / the / team / by\n"
          ]
        },
        {
          "output_type": "display_data",
          "data": {
            "text/plain": [
              "Text(value='', description='Your Answer:', layout=Layout(width='90%'), placeholder='Type the correct sentence …"
            ],
            "application/vnd.jupyter.widget-view+json": {
              "version_major": 2,
              "version_minor": 0,
              "model_id": "d38ce40fabdd4159829a6300785166fd"
            }
          },
          "metadata": {}
        },
        {
          "output_type": "display_data",
          "data": {
            "text/plain": [
              "Button(description='Submit', style=ButtonStyle())"
            ],
            "application/vnd.jupyter.widget-view+json": {
              "version_major": 2,
              "version_minor": 0,
              "model_id": "a23731980d5549c0a123b2680bd94c02"
            }
          },
          "metadata": {}
        },
        {
          "output_type": "display_data",
          "data": {
            "text/plain": [
              "Output()"
            ],
            "application/vnd.jupyter.widget-view+json": {
              "version_major": 2,
              "version_minor": 0,
              "model_id": "18be303c07ca4bbdbe5e1580964d3e55"
            }
          },
          "metadata": {}
        }
      ]
    }
  ]
}