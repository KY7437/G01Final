{
  "nbformat": 4,
  "nbformat_minor": 0,
  "metadata": {
    "colab": {
      "provenance": [],
      "authorship_tag": "ABX9TyMdbcP96FHLIu9NNUbT8pEi",
      "include_colab_link": true
    },
    "kernelspec": {
      "name": "python3",
      "display_name": "Python 3"
    },
    "language_info": {
      "name": "python"
    }
  },
  "cells": [
    {
      "cell_type": "markdown",
      "metadata": {
        "id": "view-in-github",
        "colab_type": "text"
      },
      "source": [
        "<a href=\"https://colab.research.google.com/github/KY7437/G01Final/blob/main/untitled4.ipynb\" target=\"_parent\"><img src=\"https://colab.research.google.com/assets/colab-badge.svg\" alt=\"Open In Colab\"/></a>"
      ]
    },
    {
      "cell_type": "code",
      "source": [
        "import random\n",
        "\n",
        "# 단어와 영영풀이를 딕셔너리로 정의\n",
        "vocab = {\n",
        "    \"enchant\": \"to delight or charm someone, often in a magical way\",\n",
        "    \"whisper\": \"to speak very softly without using your voice much\",\n",
        "    \"rumor\": \"a piece of unconfirmed information that people spread\",\n",
        "    \"rustle\": \"to make a soft, light sound, like leaves or paper moving\"\n",
        "}\n",
        "\n",
        "# 정의와 단어 쌍을 리스트로 변환하고 섞기\n",
        "items = list(vocab.items())\n",
        "random.shuffle(items)\n",
        "\n",
        "score = 0\n",
        "\n",
        "# 퀴즈 시작\n",
        "print(\"📘 Vocabulary Quiz - Type the correct word for each definition!\\n\")\n",
        "\n",
        "for word, definition in items:\n",
        "    print(f\"📝 Definition: {definition}\")\n",
        "    answer = input(\"👉 Your answer: \").strip().lower()\n",
        "\n",
        "    if answer == word:\n",
        "        print(\"✅ Correct!\\n\")\n",
        "        score += 1\n",
        "    else:\n",
        "        print(f\"❌ Incorrect. The correct word is '{word}'.\\n\")\n",
        "\n",
        "print(f\"🎯 Quiz finished! You got {score} out of {len(vocab)} correct.\")\n"
      ],
      "metadata": {
        "colab": {
          "base_uri": "https://localhost:8080/"
        },
        "id": "NWUyHTAlTAbE",
        "outputId": "2150a075-c054-461b-c46e-7de2634e6e06"
      },
      "execution_count": null,
      "outputs": [
        {
          "output_type": "stream",
          "name": "stdout",
          "text": [
            "📘 Vocabulary Quiz - Type the correct word for each definition!\n",
            "\n",
            "📝 Definition: to make a soft, light sound, like leaves or paper moving\n",
            "👉 Your answer: rustle\n",
            "✅ Correct!\n",
            "\n",
            "📝 Definition: a piece of unconfirmed information that people spread\n",
            "👉 Your answer: rumor\n",
            "✅ Correct!\n",
            "\n",
            "📝 Definition: to speak very softly without using your voice much\n",
            "👉 Your answer: whisper\n",
            "✅ Correct!\n",
            "\n",
            "📝 Definition: to delight or charm someone, often in a magical way\n",
            "👉 Your answer: enchant\n",
            "✅ Correct!\n",
            "\n",
            "🎯 Quiz finished! You got 4 out of 4 correct.\n"
          ]
        }
      ]
    }
  ]
}
