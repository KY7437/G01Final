{
  "nbformat": 4,
  "nbformat_minor": 0,
  "metadata": {
    "colab": {
      "provenance": [],
      "authorship_tag": "ABX9TyO6+UO3wfwgUvgdH9Pt6w8i",
      "include_colab_link": true
    },
    "kernelspec": {
      "name": "python3",
      "display_name": "Python 3"
    },
    "language_info": {
      "name": "python"
    }
  },
  "cells": [
    {
      "cell_type": "markdown",
      "metadata": {
        "id": "view-in-github",
        "colab_type": "text"
      },
      "source": [
        "<a href=\"https://colab.research.google.com/github/KY7437/G01Final/blob/main/Untitled7.ipynb\" target=\"_parent\"><img src=\"https://colab.research.google.com/assets/colab-badge.svg\" alt=\"Open In Colab\"/></a>"
      ]
    },
    {
      "cell_type": "code",
      "source": [
        "import random\n",
        "\n",
        "words = {\n",
        "    \"magic\": \"a power that makes strange or wonderful things happen\",\n",
        "    \"sneak\": \"to move quietly so no one can see or hear you\",\n",
        "    \"rumor\": \"a story that people talk about, but it may not be true\"\n",
        "}\n",
        "\n",
        "def compare_words(guess, answer):\n",
        "    result = []\n",
        "    for i in range(len(guess)):\n",
        "        if guess[i] == answer[i]:\n",
        "            result.append(\"🟩\")  # correct letter and position\n",
        "        elif guess[i] in answer:\n",
        "            result.append(\"🟨\")  # correct letter wrong position\n",
        "        else:\n",
        "            result.append(\"⬛\")  # letter not in word\n",
        "    return \"\".join(result)\n",
        "\n",
        "answer = random.choice(list(words.keys()))\n",
        "definition = words[answer]\n",
        "\n",
        "print(\"🎯 Welcome to Wordle! Guess the 5-letter word.\")\n",
        "print(\"You have 6 attempts.\\n\")\n",
        "\n",
        "max_attempts = 6\n",
        "used_letters = set()\n",
        "\n",
        "for attempt in range(max_attempts):\n",
        "    guess = input(f\"Attempt {attempt+1}: Enter your guess: \").lower()\n",
        "\n",
        "    if len(guess) != 5:\n",
        "        print(\"⚠️ Please enter a 5-letter word.\\n\")\n",
        "        continue\n",
        "\n",
        "    if guess not in words:\n",
        "        print(\"⚠️ Please guess one of these words: magic, sneak, rumor\\n\")\n",
        "        continue\n",
        "\n",
        "    feedback = compare_words(guess, answer)\n",
        "    print(\"Result: \", feedback)\n",
        "\n",
        "    # Show hint letters (yellow letters)\n",
        "    for i in range(5):\n",
        "        if guess[i] in answer and guess[i] != answer[i]:\n",
        "            used_letters.add(guess[i])\n",
        "\n",
        "    if guess == answer:\n",
        "        print(f\"\\n✅ Correct! The word is '{answer.upper()}'.\")\n",
        "        print(f\"📘 Meaning: {definition}\")\n",
        "        break\n",
        "\n",
        "    if used_letters:\n",
        "        hint_letters = \", \".join(sorted(letter.upper() for letter in used_letters))\n",
        "        print(f\"🔤 Hint letters: {hint_letters}\\n\")\n",
        "\n",
        "else:\n",
        "    print(f\"\\n❌ Sorry, you used all attempts. The word was '{answer.upper()}'.\")\n",
        "    print(f\"📘 Meaning: {definition}\")"
      ],
      "metadata": {
        "colab": {
          "base_uri": "https://localhost:8080/"
        },
        "id": "WNBWujCF37V4",
        "outputId": "b644f60f-1c76-4eb0-84d0-c5c376975e05"
      },
      "execution_count": 3,
      "outputs": [
        {
          "output_type": "stream",
          "name": "stdout",
          "text": [
            "🎯 Welcome to Wordle! Guess the 5-letter word.\n",
            "You have 6 attempts.\n",
            "\n",
            "Attempt 1: Enter your guess: Magic\n",
            "Result:  🟩🟩🟩🟩🟩\n",
            "\n",
            "✅ Correct! The word is 'MAGIC'.\n",
            "📘 Meaning: a power that makes strange or wonderful things happen\n"
          ]
        }
      ]
    }
  ]
}